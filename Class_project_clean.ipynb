{
  "nbformat": 4,
  "nbformat_minor": 0,
  "metadata": {
    "kernelspec": {
      "display_name": "Python 3",
      "language": "python",
      "name": "python3"
    },
    "language_info": {
      "codemirror_mode": {
        "name": "ipython",
        "version": 3
      },
      "file_extension": ".py",
      "mimetype": "text/x-python",
      "name": "python",
      "nbconvert_exporter": "python",
      "pygments_lexer": "ipython3",
      "version": "3.7.3"
    },
    "colab": {
      "name": "Class project-clean.ipynb",
      "version": "0.3.2",
      "provenance": [],
      "collapsed_sections": [],
      "include_colab_link": true
    }
  },
  "cells": [
    {
      "cell_type": "markdown",
      "metadata": {
        "id": "view-in-github",
        "colab_type": "text"
      },
      "source": [
        "<a href=\"https://colab.research.google.com/github/shreyabhandarii/Women-Work-Force-Participation/blob/master/Class_project_clean.ipynb\" target=\"_parent\"><img src=\"https://colab.research.google.com/assets/colab-badge.svg\" alt=\"Open In Colab\"/></a>"
      ]
    },
    {
      "cell_type": "code",
      "metadata": {
        "id": "XtsCPwEn1dmP",
        "colab_type": "code",
        "colab": {}
      },
      "source": [
        "import pandas as pd"
      ],
      "execution_count": 0,
      "outputs": []
    },
    {
      "cell_type": "code",
      "metadata": {
        "id": "u8ir-XZx1dmW",
        "colab_type": "code",
        "colab": {}
      },
      "source": [
        "import numpy as np"
      ],
      "execution_count": 0,
      "outputs": []
    },
    {
      "cell_type": "code",
      "metadata": {
        "id": "oAc_nzWSvPvl",
        "colab_type": "code",
        "colab": {}
      },
      "source": [
        "import seaborn as sns"
      ],
      "execution_count": 0,
      "outputs": []
    },
    {
      "cell_type": "code",
      "metadata": {
        "id": "lKE3G5jrvQo3",
        "colab_type": "code",
        "colab": {}
      },
      "source": [
        "import matplotlib.pyplot as plt"
      ],
      "execution_count": 0,
      "outputs": []
    },
    {
      "cell_type": "code",
      "metadata": {
        "id": "yywPVuXK2PqV",
        "colab_type": "code",
        "colab": {}
      },
      "source": [
        "from google.colab import drive \n",
        "drive.mount('/content/gdrive')"
      ],
      "execution_count": 0,
      "outputs": []
    },
    {
      "cell_type": "code",
      "metadata": {
        "id": "xU3UeZ1g3S-w",
        "colab_type": "code",
        "colab": {}
      },
      "source": [
        "LFP=pd.read_csv('/content/gdrive/My Drive/data/work_asgn.csv')"
      ],
      "execution_count": 0,
      "outputs": []
    },
    {
      "cell_type": "code",
      "metadata": {
        "id": "3hGEgJTO1dme",
        "colab_type": "code",
        "colab": {}
      },
      "source": [
        "LFP.T"
      ],
      "execution_count": 0,
      "outputs": []
    },
    {
      "cell_type": "code",
      "metadata": {
        "id": "g7SuM7p61dmk",
        "colab_type": "code",
        "colab": {}
      },
      "source": [
        "LFP.info()"
      ],
      "execution_count": 0,
      "outputs": []
    },
    {
      "cell_type": "code",
      "metadata": {
        "id": "ycnGilkH1dms",
        "colab_type": "code",
        "colab": {}
      },
      "source": [
        "LFP.describe()"
      ],
      "execution_count": 0,
      "outputs": []
    },
    {
      "cell_type": "code",
      "metadata": {
        "id": "pNZ0kv-e1dmx",
        "colab_type": "code",
        "colab": {}
      },
      "source": [
        "LFP.head()"
      ],
      "execution_count": 0,
      "outputs": []
    },
    {
      "cell_type": "code",
      "metadata": {
        "id": "pf5_nMqc1dm2",
        "colab_type": "code",
        "colab": {}
      },
      "source": [
        "LFP.dtypes"
      ],
      "execution_count": 0,
      "outputs": []
    },
    {
      "cell_type": "code",
      "metadata": {
        "id": "bpz2dUo91dm9",
        "colab_type": "code",
        "colab": {}
      },
      "source": [
        "LFP.nunique()"
      ],
      "execution_count": 0,
      "outputs": []
    },
    {
      "cell_type": "code",
      "metadata": {
        "id": "lfdEP1bk1dnD",
        "colab_type": "code",
        "colab": {}
      },
      "source": [
        "lfp=LFP.copy()"
      ],
      "execution_count": 0,
      "outputs": []
    },
    {
      "cell_type": "code",
      "metadata": {
        "id": "ni6ntiPG1dnM",
        "colab_type": "code",
        "colab": {}
      },
      "source": [
        "lfp.isnull().sum()"
      ],
      "execution_count": 0,
      "outputs": []
    },
    {
      "cell_type": "code",
      "metadata": {
        "id": "LQYYDE6k1dpQ",
        "colab_type": "code",
        "colab": {}
      },
      "source": [
        "lfp=LFP[LFP['RO3'] == 'Female 2' ]\n",
        "lfp.RO3.describe()"
      ],
      "execution_count": 0,
      "outputs": []
    },
    {
      "cell_type": "code",
      "metadata": {
        "id": "zUcSdmZ_HEFu",
        "colab_type": "code",
        "colab": {}
      },
      "source": [
        "lfp.RO5.isnull().sum()"
      ],
      "execution_count": 0,
      "outputs": []
    },
    {
      "cell_type": "code",
      "metadata": {
        "id": "Jsg3z9rqHECb",
        "colab_type": "code",
        "colab": {}
      },
      "source": [
        "lfp.dropna(subset=[\"RO5\"], inplace=True)"
      ],
      "execution_count": 0,
      "outputs": []
    },
    {
      "cell_type": "code",
      "metadata": {
        "id": "p5z66FFK1dpF",
        "colab_type": "code",
        "colab": {}
      },
      "source": [
        "lfp=LFP.query('15<=RO5<=65')\n",
        "lfp.RO5.describe()"
      ],
      "execution_count": 0,
      "outputs": []
    },
    {
      "cell_type": "code",
      "metadata": {
        "id": "naW5Dd-R1dpY",
        "colab_type": "code",
        "colab": {}
      },
      "source": [
        "lfp['age_groups'] = pd.cut(lfp.RO5, bins=[14.5, 30.5, 50.5, 65.5], labels=['fresher', 'experienced', 'elderly'])\n",
        "lfp.age_groups.describe()"
      ],
      "execution_count": 0,
      "outputs": []
    },
    {
      "cell_type": "code",
      "metadata": {
        "id": "xVKjvdMcHM2h",
        "colab_type": "code",
        "colab": {}
      },
      "source": [
        "lfp.age_groups.isnull().sum()"
      ],
      "execution_count": 0,
      "outputs": []
    },
    {
      "cell_type": "code",
      "metadata": {
        "id": "inL49F_eHSb_",
        "colab_type": "code",
        "colab": {}
      },
      "source": [
        "lfp.age_groups.value_counts()"
      ],
      "execution_count": 0,
      "outputs": []
    },
    {
      "cell_type": "code",
      "metadata": {
        "id": "G-lkZMmDHTa0",
        "colab_type": "code",
        "colab": {}
      },
      "source": [
        "#lfp[\"age_groups\"] = lfp[\"age_groups\"].astype('category')"
      ],
      "execution_count": 0,
      "outputs": []
    },
    {
      "cell_type": "code",
      "metadata": {
        "id": "PMMGm50NHXMD",
        "colab_type": "code",
        "colab": {}
      },
      "source": [
        "#lfp.age_groups.dtypes"
      ],
      "execution_count": 0,
      "outputs": []
    },
    {
      "cell_type": "code",
      "metadata": {
        "id": "pjc3x8AKHkgR",
        "colab_type": "code",
        "colab": {}
      },
      "source": [
        "#lfp[\"age_groups_cat\"] = lfp[\"age_groups\"].cat.codes"
      ],
      "execution_count": 0,
      "outputs": []
    },
    {
      "cell_type": "code",
      "metadata": {
        "id": "CHLiNa5IHkmS",
        "colab_type": "code",
        "colab": {}
      },
      "source": [
        "#lfp.age_groups_cat.value_counts()"
      ],
      "execution_count": 0,
      "outputs": []
    },
    {
      "cell_type": "code",
      "metadata": {
        "id": "Nyp4RGIt1dpg",
        "colab_type": "code",
        "colab": {}
      },
      "source": [
        "lfp['NELDER']=lfp['NELDERM']+lfp['NELDERF']\n",
        "lfp.NELDER.describe()"
      ],
      "execution_count": 0,
      "outputs": []
    },
    {
      "cell_type": "code",
      "metadata": {
        "id": "ad1UtjKP1dpk",
        "colab_type": "code",
        "colab": {}
      },
      "source": [
        "#FPR=lfp.drop(['NCHILDM','NCHILDF'],axis=1)"
      ],
      "execution_count": 0,
      "outputs": []
    },
    {
      "cell_type": "code",
      "metadata": {
        "id": "XoKtF3RKDSSy",
        "colab_type": "code",
        "colab": {}
      },
      "source": [
        "lfp[lfp['RO4'].isnull()]"
      ],
      "execution_count": 0,
      "outputs": []
    },
    {
      "cell_type": "code",
      "metadata": {
        "id": "WCVJ1V_A1dpo",
        "colab_type": "code",
        "colab": {}
      },
      "source": [
        "lfp[lfp['RO7'].isnull()]"
      ],
      "execution_count": 0,
      "outputs": []
    },
    {
      "cell_type": "code",
      "metadata": {
        "id": "lxt0Qdby1dps",
        "colab_type": "code",
        "colab": {}
      },
      "source": [
        "lfp.RO7.isnull().any()"
      ],
      "execution_count": 0,
      "outputs": []
    },
    {
      "cell_type": "code",
      "metadata": {
        "id": "UvhIUCAM1dpx",
        "colab_type": "code",
        "colab": {}
      },
      "source": [
        "lfp.RO7.isnull().sum()"
      ],
      "execution_count": 0,
      "outputs": []
    },
    {
      "cell_type": "code",
      "metadata": {
        "id": "kqFNG25Y1dp2",
        "colab_type": "code",
        "colab": {}
      },
      "source": [
        "lfp[\"ID11\"].value_counts()"
      ],
      "execution_count": 0,
      "outputs": []
    },
    {
      "cell_type": "code",
      "metadata": {
        "id": "NtV1201Z1dp_",
        "colab_type": "code",
        "colab": {}
      },
      "source": [
        "lfp[\"RO6\"].value_counts()"
      ],
      "execution_count": 0,
      "outputs": []
    },
    {
      "cell_type": "code",
      "metadata": {
        "id": "qcWlXtyu1dqH",
        "colab_type": "code",
        "colab": {}
      },
      "source": [
        "lfp[\"RO7\"].value_counts()"
      ],
      "execution_count": 0,
      "outputs": []
    },
    {
      "cell_type": "code",
      "metadata": {
        "id": "njftwX9IH7VN",
        "colab_type": "code",
        "colab": {}
      },
      "source": [
        "lfp[\"ED6\"].value_counts()"
      ],
      "execution_count": 0,
      "outputs": []
    },
    {
      "cell_type": "code",
      "metadata": {
        "id": "-52aaCmtH7R5",
        "colab_type": "code",
        "colab": {}
      },
      "source": [
        "lfp[\"URBAN2011\"].value_counts()"
      ],
      "execution_count": 0,
      "outputs": []
    },
    {
      "cell_type": "code",
      "metadata": {
        "id": "QJeErx4BDoDf",
        "colab_type": "code",
        "colab": {}
      },
      "source": [
        "lfp[\"RO4\"].value_counts()"
      ],
      "execution_count": 0,
      "outputs": []
    },
    {
      "cell_type": "code",
      "metadata": {
        "id": "fRL-hCedDoPB",
        "colab_type": "code",
        "colab": {}
      },
      "source": [
        "lfp[\"ASSETS\"].value_counts()"
      ],
      "execution_count": 0,
      "outputs": []
    },
    {
      "cell_type": "code",
      "metadata": {
        "id": "sVEepGaTF6Jv",
        "colab_type": "code",
        "colab": {}
      },
      "source": [
        "lfp[\"NTEENM\"].value_counts()"
      ],
      "execution_count": 0,
      "outputs": []
    },
    {
      "cell_type": "code",
      "metadata": {
        "id": "TtadyeEzGQvt",
        "colab_type": "code",
        "colab": {}
      },
      "source": [
        "lfp[\"NTEENF\"].value_counts().sum()"
      ],
      "execution_count": 0,
      "outputs": []
    },
    {
      "cell_type": "code",
      "metadata": {
        "id": "5XdMmkwOrY1Q",
        "colab_type": "code",
        "colab": {}
      },
      "source": [
        "lfp[\"NCHILDM\"].value_counts().sum()"
      ],
      "execution_count": 0,
      "outputs": []
    },
    {
      "cell_type": "code",
      "metadata": {
        "id": "v_qMrYbdrbGP",
        "colab_type": "code",
        "colab": {}
      },
      "source": [
        "lfp[\"NCHILDF\"].value_counts().sum()"
      ],
      "execution_count": 0,
      "outputs": []
    },
    {
      "cell_type": "code",
      "metadata": {
        "id": "MA-a5XN0rdqF",
        "colab_type": "code",
        "colab": {}
      },
      "source": [
        "lfp.NTEENF.isnull().sum()"
      ],
      "execution_count": 0,
      "outputs": []
    },
    {
      "cell_type": "code",
      "metadata": {
        "id": "r0euSmbjrdno",
        "colab_type": "code",
        "colab": {}
      },
      "source": [
        "lfp.NTEENM.isnull().sum()"
      ],
      "execution_count": 0,
      "outputs": []
    },
    {
      "cell_type": "code",
      "metadata": {
        "id": "A2ZuEwHxrdkZ",
        "colab_type": "code",
        "colab": {}
      },
      "source": [
        "lfp.NCHILDM.isnull().sum()"
      ],
      "execution_count": 0,
      "outputs": []
    },
    {
      "cell_type": "code",
      "metadata": {
        "id": "OdMy_unbrdh-",
        "colab_type": "code",
        "colab": {}
      },
      "source": [
        "lfp.NCHILDF.isnull().sum()"
      ],
      "execution_count": 0,
      "outputs": []
    },
    {
      "cell_type": "code",
      "metadata": {
        "id": "v5GcrVZM1dqR",
        "colab_type": "code",
        "colab": {}
      },
      "source": [
        "#custom kisko kya assign krna h jesa hum abhi krre the#find n replace\n",
        "\n",
        "\n",
        "lfp = lfp.fillna({\"ID11\": \"Hindu 1\"})\n",
        "lfp.dropna(subset=[\"RO6\"], inplace=True)# inplace, No need to assign back to dataframe (because it is on the same copy)#w/o inplace or =F(default), Have to assign back to dataframe (because it is a new copy)\n",
        "lfp = lfp.fillna({\"RO7\": \"Housework 11\"})\n",
        "lfp = lfp.fillna({\"ED6\": \"none 0\"})\n",
        "lfp = lfp.fillna({\"ASSETS\": 0.0})\n",
        "\n",
        "lfp = lfp.fillna({\"ID13\": \"Other Backward Castes (OBC) 3\"})\n",
        "new_asn = {\"ID11\":     {\"Hindu 1\": 0, \"Muslim 2\": 1, \"Christian 3\": 2, \"Sikh 4\":2,\"Buddhist 5\":2,\"Tribal 7\":2,\"Jain 6\":2,\"Others 8\":2, \"None 9\":2},\n",
        "            \"RO6\": {\"Married 1\": 0, \"Unmarried 2\": 1, \"Widowed 3\": 2, \"Married, spouse absent\": 0, \"Separated/Divorced 4\":3 ,\n",
        "                                  \"Married no gauna 5\": 0 },\n",
        "          \"RO7\": {\"Housework 11\": 0,\"Student 12\": 0, \"Too young/Unfit 14\": 0, \"Unemployed 13\": 0, \"Retired 10\": 0, \"Others 15\": 0, \n",
        "                  \"Ag wage labour 3\": 1,\"Nonag wage labour 4\": 1, \"Salaried 8\": 1, \"Cultivation 1\": 1, \"Small business 6\": 1, \n",
        "                  \"Artisan/indpt work 5\": 1, \"Allied ag 2\": 1, \"Profession 9\": 1, \"Organized Business 7\": 1}, \n",
        "          \"ED6\": {\"none 0\": 0, \"5th class 5\": 1, \"8th class 8\": 1, \"9th class 9\": 1,\"4th class 4\": 1,\"3rd class 3\": 1,\"6th class 6\": 1,\"1st class 1\": 1, \"2nd class 2\": 1,\"7th class 7\": 1,\"Secondary 10\": 2,\"11th Class 11\": 2,\"High Secondary 12\": 2,\"Bachelors 15\": 3,\"Above Bachelors 16\": 3,\"2 years post-secondary\": 3,\"1 year post-secondary\": 3},\n",
        "          \"URBAN2011\": {\"rural 0\": 0,\"urban 1\": 1},\n",
        "           \"RO4\": {\"Head 1\": 0, \"Wife/Husband 2\":1, \"Son/Daughter 3\": 2, \"Child-in-Law 4\": 3,  \"Grandchild 5\":4,\"Brother/Sister 7\":4,\"Father/Mother 6\":4,\"Sib-in-Law 10\":4,\"Nephew/Niece 9\":4,\"Other rel 11\":4,\"Parent-in-Law 8\":4,\"Servant/Others 12\":4},\n",
        "           \"ID13\":{\"Forward/General (except Brahmin) 2\":0, \"Brahmin 1\":0,\"Others 6\":0,\"Other Backward Castes (OBC) 3\":1,\"Scheduled Castes (SC) 4\":2,\"Scheduled Tribes (ST) 5\":3},\n",
        "           \"ED6\": {\"none 0\": 0, \"5th class 5\": 1, \"8th class 8\": 1, \"9th class 9\": 1,\"4th class 4\": 1,\"3rd class 3\": 1,\"6th class 6\": 1,\"1st class 1\": 1, \"2nd class 2\": 1,\"7th class 7\": 1,\"Secondary 10\": 2,\"11th Class 11\": 2,\"High Secondary 12\": 2,\"Bachelors 15\": 3,\"Above Bachelors 16\": 3,\"2 years post-secondary\": 3,\"1 year post-secondary\": 3},\n",
        "           \"age_groups\": {\"fresher\": 0, \"experienced\":1,\"elderly\":2}\n",
        "          }\n",
        "          \n",
        "                \n",
        "lfp.replace(new_asn, inplace=True)\n",
        "\n"
      ],
      "execution_count": 0,
      "outputs": []
    },
    {
      "cell_type": "code",
      "metadata": {
        "id": "UGHZqSU01dqb",
        "colab_type": "code",
        "colab": {}
      },
      "source": [
        "lfp.ID11.describe()"
      ],
      "execution_count": 0,
      "outputs": []
    },
    {
      "cell_type": "code",
      "metadata": {
        "id": "TwczW9be1dqi",
        "colab_type": "code",
        "colab": {}
      },
      "source": [
        "lfp.RO6.describe()"
      ],
      "execution_count": 0,
      "outputs": []
    },
    {
      "cell_type": "code",
      "metadata": {
        "id": "yDnf46Ey1dqq",
        "colab_type": "code",
        "colab": {}
      },
      "source": [
        "lfp.RO7.describe()"
      ],
      "execution_count": 0,
      "outputs": []
    },
    {
      "cell_type": "code",
      "metadata": {
        "id": "nt97bXKdD8pL",
        "colab_type": "code",
        "colab": {}
      },
      "source": [
        "lfp.ASSETS.describe()"
      ],
      "execution_count": 0,
      "outputs": []
    },
    {
      "cell_type": "code",
      "metadata": {
        "id": "d8dvSgjrIJFq",
        "colab_type": "code",
        "colab": {}
      },
      "source": [
        "lfp.ED6.describe()"
      ],
      "execution_count": 0,
      "outputs": []
    },
    {
      "cell_type": "code",
      "metadata": {
        "id": "z_3jXFo5IJLW",
        "colab_type": "code",
        "colab": {}
      },
      "source": [
        "lfp.URBAN2011.describe()"
      ],
      "execution_count": 0,
      "outputs": []
    },
    {
      "cell_type": "code",
      "metadata": {
        "id": "80oQVQKT1dqw",
        "colab_type": "code",
        "colab": {}
      },
      "source": [
        "lfp=pd.get_dummies(lfp, columns=[\"ID11\",\"RO6\", \"RO7\",\"URBAN2011\",\"RO4\",\"ID13\",\"ED6\",\"age_groups\"], drop_first=True)"
      ],
      "execution_count": 0,
      "outputs": []
    },
    {
      "cell_type": "code",
      "metadata": {
        "id": "9W2TypnDEOER",
        "colab_type": "code",
        "colab": {}
      },
      "source": [
        "lfp.head()"
      ],
      "execution_count": 0,
      "outputs": []
    },
    {
      "cell_type": "code",
      "metadata": {
        "id": "VF-xvaBB1dq1",
        "colab_type": "code",
        "colab": {}
      },
      "source": [
        "df=lfp.loc[:,[\"INCOME\",\"ID11_1\",\"ID11_2\",\"RO6_1\",\"RO6_2\",\"RO6_3\", \"RO7_1\",\"ED6_1\",\"ED6_2\",\"ED6_3\",\"URBAN2011_1\",\"age_groups_1\",\"age_groups_2\", \"NPERSONS\", \"RO4_1\",\"RO4_2\",\"RO4_3\",\"RO4_4\",\"ID13_1\",\"ID13_2\",\"ID13_3\", \"NELDER\",\"ASSETS\" ]]"
      ],
      "execution_count": 0,
      "outputs": []
    },
    {
      "cell_type": "code",
      "metadata": {
        "id": "jvWCuvsJIWbd",
        "colab_type": "code",
        "colab": {}
      },
      "source": [
        "df.rename(columns={'INCOME': 'THHY', 'ID11_1': 'Muslim','ID11_2': 'Religion_Others', 'RO6_1': 'Unmarried', 'RO6_2': 'Widowed','RO6_3':\"Separated/Divorced\", 'RO7_1': 'Employed', 'ED6_1': 'Primary_Ed', 'ED6_2': 'Secondary_Ed', 'ED6_3': 'Tertiary_Ed', 'URBAN2011_1':'Urban', \"age_groups_1\": \"experienced\",\"age_groups_2\": 'elderly', \"NPERSONS\":\"NPERSONS\", \"RO4_1\":\"Wifeofhead\", \"RO4_2\":\"Daughter\",\"RO4_3\":\"Daughter-in-Law\",\"RO4_4\":\"Other relationship to head\",\"ID13_1\":\"OBC\",\"ID13_2\":\"SC\",\"ID13_3\":\"ST\", \"NELDER\":\"NELDER>60\", \"ASSETS\":\"THASSETS\", }, inplace=True)"
      ],
      "execution_count": 0,
      "outputs": []
    },
    {
      "cell_type": "code",
      "metadata": {
        "id": "ItmFhpvNrntA",
        "colab_type": "code",
        "colab": {}
      },
      "source": [
        "df['N_children']=lfp['NCHILDM']+lfp['NCHILDF']+lfp['NTEENF']+lfp['NTEENM']\n",
        "df.N_children.describe()"
      ],
      "execution_count": 0,
      "outputs": []
    },
    {
      "cell_type": "code",
      "metadata": {
        "id": "mZL7UGbwIcOO",
        "colab_type": "code",
        "colab": {}
      },
      "source": [
        "df.head()"
      ],
      "execution_count": 0,
      "outputs": []
    },
    {
      "cell_type": "code",
      "metadata": {
        "id": "SLhLnjy5Aa1Q",
        "colab_type": "code",
        "colab": {}
      },
      "source": [
        "df.info()"
      ],
      "execution_count": 0,
      "outputs": []
    },
    {
      "cell_type": "code",
      "metadata": {
        "id": "rFKeY1QSEhui",
        "colab_type": "code",
        "colab": {}
      },
      "source": [
        "obj_df = df.select_dtypes(include=['uint8','int8','int64']).copy()"
      ],
      "execution_count": 0,
      "outputs": []
    },
    {
      "cell_type": "code",
      "metadata": {
        "id": "CQSBSM1REkn-",
        "colab_type": "code",
        "colab": {}
      },
      "source": [
        "cont_df = df.select_dtypes(include=['float64']).copy()"
      ],
      "execution_count": 0,
      "outputs": []
    },
    {
      "cell_type": "code",
      "metadata": {
        "id": "Iie0S5cOEnno",
        "colab_type": "code",
        "colab": {}
      },
      "source": [
        "obj_df.info()"
      ],
      "execution_count": 0,
      "outputs": []
    },
    {
      "cell_type": "code",
      "metadata": {
        "id": "Gi8rm4XZEqDU",
        "colab_type": "code",
        "colab": {}
      },
      "source": [
        "cont_df.info()"
      ],
      "execution_count": 0,
      "outputs": []
    },
    {
      "cell_type": "code",
      "metadata": {
        "id": "O6TOTEFJrqAq",
        "colab_type": "code",
        "colab": {}
      },
      "source": [
        "df.describe().T"
      ],
      "execution_count": 0,
      "outputs": []
    },
    {
      "cell_type": "code",
      "metadata": {
        "id": "183Ompw0vx91",
        "colab_type": "code",
        "colab": {}
      },
      "source": [
        "df.to_csv('/content/gdrive/My Drive/data/Data_df.csv')"
      ],
      "execution_count": 0,
      "outputs": []
    },
    {
      "cell_type": "code",
      "metadata": {
        "id": "QP6DImkeTfS6",
        "colab_type": "code",
        "colab": {}
      },
      "source": [
        "df.describe().T.to_csv('/content/gdrive/My Drive/data/3.1.csv')"
      ],
      "execution_count": 0,
      "outputs": []
    },
    {
      "cell_type": "code",
      "metadata": {
        "id": "RcBDLjgWrucL",
        "colab_type": "code",
        "colab": {}
      },
      "source": [
        "plt.figure(figsize=(20,20))\n",
        "correlation_matrix = df.corr().round(2)\n",
        "sns.heatmap(data=correlation_matrix, annot=True)"
      ],
      "execution_count": 0,
      "outputs": []
    },
    {
      "cell_type": "code",
      "metadata": {
        "id": "O_y9C4hSrwwa",
        "colab_type": "code",
        "colab": {}
      },
      "source": [
        "#df=df.drop(['NPERSONS'],axis=1)"
      ],
      "execution_count": 0,
      "outputs": []
    },
    {
      "cell_type": "code",
      "metadata": {
        "id": "Ovyer5UNrzJ4",
        "colab_type": "code",
        "colab": {}
      },
      "source": [
        "Y=df['Employed']"
      ],
      "execution_count": 0,
      "outputs": []
    },
    {
      "cell_type": "code",
      "metadata": {
        "id": "3Couc-cIr2jU",
        "colab_type": "code",
        "colab": {}
      },
      "source": [
        "Y.head()"
      ],
      "execution_count": 0,
      "outputs": []
    },
    {
      "cell_type": "code",
      "metadata": {
        "id": "u6cxTAt8r3c8",
        "colab_type": "code",
        "colab": {}
      },
      "source": [
        "Y = Y.astype('int')"
      ],
      "execution_count": 0,
      "outputs": []
    },
    {
      "cell_type": "code",
      "metadata": {
        "id": "KZG8xONVsfuI",
        "colab_type": "code",
        "colab": {}
      },
      "source": [
        "Y.isnull().sum()"
      ],
      "execution_count": 0,
      "outputs": []
    },
    {
      "cell_type": "code",
      "metadata": {
        "id": "MAVB-rSjscg5",
        "colab_type": "code",
        "colab": {}
      },
      "source": [
        "Y.head()"
      ],
      "execution_count": 0,
      "outputs": []
    },
    {
      "cell_type": "code",
      "metadata": {
        "id": "8637Ic88sggB",
        "colab_type": "code",
        "colab": {}
      },
      "source": [
        "Y.max()"
      ],
      "execution_count": 0,
      "outputs": []
    },
    {
      "cell_type": "code",
      "metadata": {
        "id": "kbYy0rerslDq",
        "colab_type": "code",
        "colab": {}
      },
      "source": [
        "Y.min()"
      ],
      "execution_count": 0,
      "outputs": []
    },
    {
      "cell_type": "code",
      "metadata": {
        "id": "7w-9FBS6r5hZ",
        "colab_type": "code",
        "colab": {}
      },
      "source": [
        "DF=df.drop('Employed',axis=1).copy()"
      ],
      "execution_count": 0,
      "outputs": []
    },
    {
      "cell_type": "code",
      "metadata": {
        "id": "DPKjrFCxr8Qo",
        "colab_type": "code",
        "colab": {}
      },
      "source": [
        "DF.info()"
      ],
      "execution_count": 0,
      "outputs": []
    },
    {
      "cell_type": "code",
      "metadata": {
        "id": "CT8W6OAFbeSR",
        "colab_type": "code",
        "colab": {}
      },
      "source": [
        "from statsmodels.api import add_constant"
      ],
      "execution_count": 0,
      "outputs": []
    },
    {
      "cell_type": "code",
      "metadata": {
        "id": "Gv6anMOKsANN",
        "colab_type": "code",
        "colab": {}
      },
      "source": [
        "import statsmodels.api as sm"
      ],
      "execution_count": 0,
      "outputs": []
    },
    {
      "cell_type": "code",
      "metadata": {
        "id": "z1OXvUmBsDuT",
        "colab_type": "code",
        "colab": {}
      },
      "source": [
        "import statsmodels.formula.api as smf"
      ],
      "execution_count": 0,
      "outputs": []
    },
    {
      "cell_type": "code",
      "metadata": {
        "id": "gDOr05TrbmVx",
        "colab_type": "code",
        "colab": {}
      },
      "source": [
        "DF=add_constant(DF)"
      ],
      "execution_count": 0,
      "outputs": []
    },
    {
      "cell_type": "code",
      "metadata": {
        "id": "JgQjFTOoTtuG",
        "colab_type": "code",
        "colab": {}
      },
      "source": [
        "lpm_model = sm.OLS(Y, DF)\n",
        "lpm_result = lpm_model.fit()\n",
        "print('Parameters: ', lpm_result.params[:-1])"
      ],
      "execution_count": 0,
      "outputs": []
    },
    {
      "cell_type": "code",
      "metadata": {
        "id": "UrKLhrtdTzVn",
        "colab_type": "code",
        "colab": {}
      },
      "source": [
        "Tab_32=lpm_result.summary()"
      ],
      "execution_count": 0,
      "outputs": []
    },
    {
      "cell_type": "code",
      "metadata": {
        "id": "0CXROLnFb5dA",
        "colab_type": "code",
        "colab": {}
      },
      "source": [
        "print(Tab_32)"
      ],
      "execution_count": 0,
      "outputs": []
    },
    {
      "cell_type": "code",
      "metadata": {
        "id": "Ye4O7uScT25h",
        "colab_type": "code",
        "colab": {}
      },
      "source": [
        "results_text = Tab_32.as_csv()\n",
        "\n",
        "import csv\n",
        "resultFile =open('/content/gdrive/My Drive/data/3.2.csv','w')\n",
        "resultFile.write(results_text)\n",
        "resultFile.close()"
      ],
      "execution_count": 0,
      "outputs": []
    },
    {
      "cell_type": "code",
      "metadata": {
        "id": "cShmQ5esVsrk",
        "colab_type": "code",
        "colab": {}
      },
      "source": [
        "#lpm_result.summary().tables"
      ],
      "execution_count": 0,
      "outputs": []
    },
    {
      "cell_type": "code",
      "metadata": {
        "id": "CvK8NHTCsF7A",
        "colab_type": "code",
        "colab": {}
      },
      "source": [
        "logit_model=sm.Logit(Y,DF)"
      ],
      "execution_count": 0,
      "outputs": []
    },
    {
      "cell_type": "code",
      "metadata": {
        "id": "JWXEBYRJV_si",
        "colab_type": "code",
        "colab": {}
      },
      "source": [
        "logit_result=logit_model.fit()"
      ],
      "execution_count": 0,
      "outputs": []
    },
    {
      "cell_type": "code",
      "metadata": {
        "id": "2mYIMGwJwS7s",
        "colab_type": "code",
        "colab": {}
      },
      "source": [
        "Tab_33a=logit_result.summary()"
      ],
      "execution_count": 0,
      "outputs": []
    },
    {
      "cell_type": "code",
      "metadata": {
        "id": "vuIH0F1dV4pC",
        "colab_type": "code",
        "colab": {}
      },
      "source": [
        "results_text1 = Tab_33a.as_csv()\n",
        "\n",
        "import csv\n",
        "resultFile =open('/content/gdrive/My Drive/data/3.3a.csv','w')\n",
        "resultFile.write(results_text1)\n",
        "resultFile.close()"
      ],
      "execution_count": 0,
      "outputs": []
    },
    {
      "cell_type": "code",
      "metadata": {
        "id": "8EPCQ_5Cbv8E",
        "colab_type": "code",
        "colab": {}
      },
      "source": [
        "print(Tab_33a)"
      ],
      "execution_count": 0,
      "outputs": []
    },
    {
      "cell_type": "code",
      "metadata": {
        "id": "kn67nbMSsQeB",
        "colab_type": "code",
        "colab": {}
      },
      "source": [
        "probit_model=smf.Probit(Y,DF)"
      ],
      "execution_count": 0,
      "outputs": []
    },
    {
      "cell_type": "code",
      "metadata": {
        "id": "ElmAmW0msM-7",
        "colab_type": "code",
        "colab": {}
      },
      "source": [
        "probit_result=probit_model.fit()"
      ],
      "execution_count": 0,
      "outputs": []
    },
    {
      "cell_type": "code",
      "metadata": {
        "id": "tq54eOH5WXN4",
        "colab_type": "code",
        "colab": {}
      },
      "source": [
        "Tab_33b=probit_result.summary()"
      ],
      "execution_count": 0,
      "outputs": []
    },
    {
      "cell_type": "code",
      "metadata": {
        "id": "JSewtc9Wb11L",
        "colab_type": "code",
        "colab": {}
      },
      "source": [
        "print(Tab_33b)"
      ],
      "execution_count": 0,
      "outputs": []
    },
    {
      "cell_type": "code",
      "metadata": {
        "id": "GUKSdFBaWYD_",
        "colab_type": "code",
        "colab": {}
      },
      "source": [
        "results_text2 = Tab_33b.as_csv()\n",
        "\n",
        "import csv\n",
        "resultFile =open('/content/gdrive/My Drive/data/3.3b.csv','w')\n",
        "resultFile.write(results_text2)\n",
        "resultFile.close()"
      ],
      "execution_count": 0,
      "outputs": []
    },
    {
      "cell_type": "code",
      "metadata": {
        "id": "0t9VOtAnAS9Y",
        "colab_type": "code",
        "colab": {}
      },
      "source": [
        "from statsmodels.iolib.summary2 import summary_col"
      ],
      "execution_count": 0,
      "outputs": []
    },
    {
      "cell_type": "code",
      "metadata": {
        "id": "fsAp-H3vZLPF",
        "colab_type": "code",
        "colab": {}
      },
      "source": [
        "results = summary_col([logit_result, probit_result],stars=True,float_format='%0.2f',\n",
        "                  model_names=['Logit', 'Probit'],\n",
        "                  info_dict={'N':lambda x: \"{0:d}\".format(int(x.nobs)),\n",
        "                             'R2':lambda x: \"{:.2f}\".format(x.rsquared)})"
      ],
      "execution_count": 0,
      "outputs": []
    },
    {
      "cell_type": "code",
      "metadata": {
        "id": "1aak7TAgZQHd",
        "colab_type": "code",
        "colab": {}
      },
      "source": [
        "print(results)"
      ],
      "execution_count": 0,
      "outputs": []
    },
    {
      "cell_type": "code",
      "metadata": {
        "id": "Hi0jdHSoZRBi",
        "colab_type": "code",
        "colab": {}
      },
      "source": [
        "results_text3 = results.as_text()\n",
        "\n",
        "import csv\n",
        "resultFile =open(r'C:\\Users\\admin\\Downloads\\interview prep\\trix\\3.3c.csv','w')\n",
        "resultFile.write(results_text3)\n",
        "resultFile.close()"
      ],
      "execution_count": 0,
      "outputs": []
    }
  ]
}