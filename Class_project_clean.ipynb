{
  "nbformat": 4,
  "nbformat_minor": 0,
  "metadata": {
    "kernelspec": {
      "display_name": "Python 3",
      "language": "python",
      "name": "python3"
    },
    "language_info": {
      "codemirror_mode": {
        "name": "ipython",
        "version": 3
      },
      "file_extension": ".py",
      "mimetype": "text/x-python",
      "name": "python",
      "nbconvert_exporter": "python",
      "pygments_lexer": "ipython3",
      "version": "3.7.3"
    },
    "colab": {
      "name": "Class project-clean.ipynb",
      "version": "0.3.2",
      "provenance": [],
      "collapsed_sections": [],
      "include_colab_link": true
    }
  },
  "cells": [
    {
      "cell_type": "markdown",
      "metadata": {
        "id": "view-in-github",
        "colab_type": "text"
      },
      "source": [
        "<a href=\"https://colab.research.google.com/github/shreyabhandarii/Women-Work-Force-Participation/blob/master/Class_project_clean.ipynb\" target=\"_parent\"><img src=\"https://colab.research.google.com/assets/colab-badge.svg\" alt=\"Open In Colab\"/></a>"
      ]
    },
    {
      "cell_type": "code",
      "metadata": {
        "id": "XtsCPwEn1dmP",
        "colab_type": "code",
        "colab": {}
      },
      "source": [
        "import pandas as pd"
      ],
      "execution_count": 0,
      "outputs": []
    },
    {
      "cell_type": "code",
      "metadata": {
        "id": "u8ir-XZx1dmW",
        "colab_type": "code",
        "colab": {}
      },
      "source": [
        "import numpy as np"
      ],
      "execution_count": 0,
      "outputs": []
    },
    {
      "cell_type": "code",
      "metadata": {
        "id": "oAc_nzWSvPvl",
        "colab_type": "code",
        "colab": {}
      },
      "source": [
        "import seaborn as sns"
      ],
      "execution_count": 0,
      "outputs": []
    },
    {
      "cell_type": "code",
      "metadata": {
        "id": "lKE3G5jrvQo3",
        "colab_type": "code",
        "colab": {}
      },
      "source": [
        "import matplotlib.pyplot as plt"
      ],
      "execution_count": 0,
      "outputs": []
    },
    {
      "cell_type": "code",
      "metadata": {
        "id": "yywPVuXK2PqV",
        "colab_type": "code",
        "colab": {
          "base_uri": "https://localhost:8080/",
          "height": 122
        },
        "outputId": "d974069a-3a2b-4012-90f4-a6ea6257b5b7"
      },
      "source": [
        "from google.colab import drive \n",
        "drive.mount('/content/gdrive')"
      ],
      "execution_count": 5,
      "outputs": [
        {
          "output_type": "stream",
          "text": [
            "Go to this URL in a browser: https://accounts.google.com/o/oauth2/auth?client_id=947318989803-6bn6qk8qdgf4n4g3pfee6491hc0brc4i.apps.googleusercontent.com&redirect_uri=urn%3Aietf%3Awg%3Aoauth%3A2.0%3Aoob&scope=email%20https%3A%2F%2Fwww.googleapis.com%2Fauth%2Fdocs.test%20https%3A%2F%2Fwww.googleapis.com%2Fauth%2Fdrive%20https%3A%2F%2Fwww.googleapis.com%2Fauth%2Fdrive.photos.readonly%20https%3A%2F%2Fwww.googleapis.com%2Fauth%2Fpeopleapi.readonly&response_type=code\n",
            "\n",
            "Enter your authorization code:\n",
            "··········\n",
            "Mounted at /content/gdrive\n"
          ],
          "name": "stdout"
        }
      ]
    },
    {
      "cell_type": "code",
      "metadata": {
        "id": "xU3UeZ1g3S-w",
        "colab_type": "code",
        "colab": {
          "base_uri": "https://localhost:8080/",
          "height": 71
        },
        "outputId": "bd49e34b-100b-407c-f7ea-276425531f89"
      },
      "source": [
        "LFP=pd.read_csv('/content/gdrive/My Drive/data/work_asgn.csv')"
      ],
      "execution_count": 6,
      "outputs": [
        {
          "output_type": "stream",
          "text": [
            "/usr/local/lib/python3.6/dist-packages/IPython/core/interactiveshell.py:2718: DtypeWarning: Columns (45,50,98) have mixed types. Specify dtype option on import or set low_memory=False.\n",
            "  interactivity=interactivity, compiler=compiler, result=result)\n"
          ],
          "name": "stderr"
        }
      ]
    },
    {
      "cell_type": "code",
      "metadata": {
        "id": "3hGEgJTO1dme",
        "colab_type": "code",
        "colab": {}
      },
      "source": [
        "LFP.T"
      ],
      "execution_count": 0,
      "outputs": []
    },
    {
      "cell_type": "code",
      "metadata": {
        "id": "g7SuM7p61dmk",
        "colab_type": "code",
        "colab": {}
      },
      "source": [
        "LFP.info()"
      ],
      "execution_count": 0,
      "outputs": []
    },
    {
      "cell_type": "code",
      "metadata": {
        "id": "ycnGilkH1dms",
        "colab_type": "code",
        "colab": {}
      },
      "source": [
        "LFP.describe()"
      ],
      "execution_count": 0,
      "outputs": []
    },
    {
      "cell_type": "code",
      "metadata": {
        "id": "pNZ0kv-e1dmx",
        "colab_type": "code",
        "colab": {}
      },
      "source": [
        "LFP.head()"
      ],
      "execution_count": 0,
      "outputs": []
    },
    {
      "cell_type": "code",
      "metadata": {
        "id": "pf5_nMqc1dm2",
        "colab_type": "code",
        "colab": {}
      },
      "source": [
        "LFP.dtypes"
      ],
      "execution_count": 0,
      "outputs": []
    },
    {
      "cell_type": "code",
      "metadata": {
        "id": "bpz2dUo91dm9",
        "colab_type": "code",
        "colab": {}
      },
      "source": [
        "LFP.nunique()"
      ],
      "execution_count": 0,
      "outputs": []
    },
    {
      "cell_type": "code",
      "metadata": {
        "id": "lfdEP1bk1dnD",
        "colab_type": "code",
        "colab": {}
      },
      "source": [
        "lfp=LFP.copy()"
      ],
      "execution_count": 0,
      "outputs": []
    },
    {
      "cell_type": "code",
      "metadata": {
        "id": "ni6ntiPG1dnM",
        "colab_type": "code",
        "colab": {}
      },
      "source": [
        "lfp.isnull().sum()"
      ],
      "execution_count": 0,
      "outputs": []
    },
    {
      "cell_type": "code",
      "metadata": {
        "id": "LQYYDE6k1dpQ",
        "colab_type": "code",
        "colab": {
          "base_uri": "https://localhost:8080/",
          "height": 102
        },
        "outputId": "e3ffa003-e91b-47c3-a316-48766abda092"
      },
      "source": [
        "lfp=LFP[LFP['RO3'] == 'Female 2' ]\n",
        "lfp.RO3.describe()"
      ],
      "execution_count": 8,
      "outputs": [
        {
          "output_type": "execute_result",
          "data": {
            "text/plain": [
              "count       102506\n",
              "unique           1\n",
              "top       Female 2\n",
              "freq        102506\n",
              "Name: RO3, dtype: object"
            ]
          },
          "metadata": {
            "tags": []
          },
          "execution_count": 8
        }
      ]
    },
    {
      "cell_type": "code",
      "metadata": {
        "id": "zUcSdmZ_HEFu",
        "colab_type": "code",
        "colab": {}
      },
      "source": [
        "lfp.RO5.isnull().sum()"
      ],
      "execution_count": 0,
      "outputs": []
    },
    {
      "cell_type": "code",
      "metadata": {
        "id": "Jsg3z9rqHECb",
        "colab_type": "code",
        "colab": {
          "base_uri": "https://localhost:8080/",
          "height": 102
        },
        "outputId": "7200cfec-785e-4432-e55b-54c9f8f8ab67"
      },
      "source": [
        "lfp.dropna(subset=[\"RO5\"], inplace=True)"
      ],
      "execution_count": 9,
      "outputs": [
        {
          "output_type": "stream",
          "text": [
            "/usr/local/lib/python3.6/dist-packages/ipykernel_launcher.py:1: SettingWithCopyWarning: \n",
            "A value is trying to be set on a copy of a slice from a DataFrame\n",
            "\n",
            "See the caveats in the documentation: http://pandas.pydata.org/pandas-docs/stable/indexing.html#indexing-view-versus-copy\n",
            "  \"\"\"Entry point for launching an IPython kernel.\n"
          ],
          "name": "stderr"
        }
      ]
    },
    {
      "cell_type": "code",
      "metadata": {
        "id": "p5z66FFK1dpF",
        "colab_type": "code",
        "colab": {
          "base_uri": "https://localhost:8080/",
          "height": 170
        },
        "outputId": "cfccb264-ae46-4bf3-b252-4eb705d2af41"
      },
      "source": [
        "lfp=LFP.query('15<=RO5<=65')\n",
        "lfp.RO5.describe()"
      ],
      "execution_count": 10,
      "outputs": [
        {
          "output_type": "execute_result",
          "data": {
            "text/plain": [
              "count    135474.000000\n",
              "mean         35.478254\n",
              "std          14.155778\n",
              "min          15.000000\n",
              "25%          23.000000\n",
              "50%          34.000000\n",
              "75%          46.000000\n",
              "max          65.000000\n",
              "Name: RO5, dtype: float64"
            ]
          },
          "metadata": {
            "tags": []
          },
          "execution_count": 10
        }
      ]
    },
    {
      "cell_type": "code",
      "metadata": {
        "id": "naW5Dd-R1dpY",
        "colab_type": "code",
        "colab": {
          "base_uri": "https://localhost:8080/",
          "height": 204
        },
        "outputId": "d7dbd9df-3b37-4701-f22d-da22fb09596b"
      },
      "source": [
        "lfp['age_groups'] = pd.cut(lfp.RO5, bins=[14.5, 30.5, 50.5, 65.5], labels=['fresher', 'experienced', 'elderly'])\n",
        "lfp.age_groups.describe()"
      ],
      "execution_count": 11,
      "outputs": [
        {
          "output_type": "stream",
          "text": [
            "/usr/local/lib/python3.6/dist-packages/ipykernel_launcher.py:1: SettingWithCopyWarning: \n",
            "A value is trying to be set on a copy of a slice from a DataFrame.\n",
            "Try using .loc[row_indexer,col_indexer] = value instead\n",
            "\n",
            "See the caveats in the documentation: http://pandas.pydata.org/pandas-docs/stable/indexing.html#indexing-view-versus-copy\n",
            "  \"\"\"Entry point for launching an IPython kernel.\n"
          ],
          "name": "stderr"
        },
        {
          "output_type": "execute_result",
          "data": {
            "text/plain": [
              "count      135474\n",
              "unique          3\n",
              "top       fresher\n",
              "freq        59882\n",
              "Name: age_groups, dtype: object"
            ]
          },
          "metadata": {
            "tags": []
          },
          "execution_count": 11
        }
      ]
    },
    {
      "cell_type": "code",
      "metadata": {
        "id": "xVKjvdMcHM2h",
        "colab_type": "code",
        "colab": {}
      },
      "source": [
        "lfp.age_groups.isnull().sum()"
      ],
      "execution_count": 0,
      "outputs": []
    },
    {
      "cell_type": "code",
      "metadata": {
        "id": "inL49F_eHSb_",
        "colab_type": "code",
        "colab": {}
      },
      "source": [
        "lfp.age_groups.value_counts()"
      ],
      "execution_count": 0,
      "outputs": []
    },
    {
      "cell_type": "code",
      "metadata": {
        "id": "G-lkZMmDHTa0",
        "colab_type": "code",
        "colab": {}
      },
      "source": [
        "#lfp[\"age_groups\"] = lfp[\"age_groups\"].astype('category')"
      ],
      "execution_count": 0,
      "outputs": []
    },
    {
      "cell_type": "code",
      "metadata": {
        "id": "PMMGm50NHXMD",
        "colab_type": "code",
        "colab": {}
      },
      "source": [
        "#lfp.age_groups.dtypes"
      ],
      "execution_count": 0,
      "outputs": []
    },
    {
      "cell_type": "code",
      "metadata": {
        "id": "pjc3x8AKHkgR",
        "colab_type": "code",
        "colab": {}
      },
      "source": [
        "#lfp[\"age_groups_cat\"] = lfp[\"age_groups\"].cat.codes"
      ],
      "execution_count": 0,
      "outputs": []
    },
    {
      "cell_type": "code",
      "metadata": {
        "id": "CHLiNa5IHkmS",
        "colab_type": "code",
        "colab": {}
      },
      "source": [
        "#lfp.age_groups_cat.value_counts()"
      ],
      "execution_count": 0,
      "outputs": []
    },
    {
      "cell_type": "code",
      "metadata": {
        "id": "Nyp4RGIt1dpg",
        "colab_type": "code",
        "colab": {
          "base_uri": "https://localhost:8080/",
          "height": 272
        },
        "outputId": "80cae5c6-acff-46d8-953b-f510f2e29d1b"
      },
      "source": [
        "lfp['NELDER']=lfp['NELDERM']+lfp['NELDERF']\n",
        "lfp.NELDER.describe()"
      ],
      "execution_count": 12,
      "outputs": [
        {
          "output_type": "stream",
          "text": [
            "/usr/local/lib/python3.6/dist-packages/ipykernel_launcher.py:1: SettingWithCopyWarning: \n",
            "A value is trying to be set on a copy of a slice from a DataFrame.\n",
            "Try using .loc[row_indexer,col_indexer] = value instead\n",
            "\n",
            "See the caveats in the documentation: http://pandas.pydata.org/pandas-docs/stable/indexing.html#indexing-view-versus-copy\n",
            "  \"\"\"Entry point for launching an IPython kernel.\n"
          ],
          "name": "stderr"
        },
        {
          "output_type": "execute_result",
          "data": {
            "text/plain": [
              "count    135474.000000\n",
              "mean          0.531807\n",
              "std           0.723897\n",
              "min           0.000000\n",
              "25%           0.000000\n",
              "50%           0.000000\n",
              "75%           1.000000\n",
              "max           6.000000\n",
              "Name: NELDER, dtype: float64"
            ]
          },
          "metadata": {
            "tags": []
          },
          "execution_count": 12
        }
      ]
    },
    {
      "cell_type": "code",
      "metadata": {
        "id": "ad1UtjKP1dpk",
        "colab_type": "code",
        "colab": {}
      },
      "source": [
        "#FPR=lfp.drop(['NCHILDM','NCHILDF'],axis=1)"
      ],
      "execution_count": 0,
      "outputs": []
    },
    {
      "cell_type": "code",
      "metadata": {
        "id": "XoKtF3RKDSSy",
        "colab_type": "code",
        "colab": {}
      },
      "source": [
        "lfp[lfp['RO4'].isnull()]"
      ],
      "execution_count": 0,
      "outputs": []
    },
    {
      "cell_type": "code",
      "metadata": {
        "id": "WCVJ1V_A1dpo",
        "colab_type": "code",
        "colab": {}
      },
      "source": [
        "lfp[lfp['RO7'].isnull()]"
      ],
      "execution_count": 0,
      "outputs": []
    },
    {
      "cell_type": "code",
      "metadata": {
        "id": "lxt0Qdby1dps",
        "colab_type": "code",
        "colab": {}
      },
      "source": [
        "lfp.RO7.isnull().any()"
      ],
      "execution_count": 0,
      "outputs": []
    },
    {
      "cell_type": "code",
      "metadata": {
        "id": "UvhIUCAM1dpx",
        "colab_type": "code",
        "colab": {}
      },
      "source": [
        "lfp.RO7.isnull().sum()"
      ],
      "execution_count": 0,
      "outputs": []
    },
    {
      "cell_type": "code",
      "metadata": {
        "id": "kqFNG25Y1dp2",
        "colab_type": "code",
        "colab": {}
      },
      "source": [
        "lfp[\"ID11\"].value_counts()"
      ],
      "execution_count": 0,
      "outputs": []
    },
    {
      "cell_type": "code",
      "metadata": {
        "id": "NtV1201Z1dp_",
        "colab_type": "code",
        "colab": {}
      },
      "source": [
        "lfp[\"RO6\"].value_counts()"
      ],
      "execution_count": 0,
      "outputs": []
    },
    {
      "cell_type": "code",
      "metadata": {
        "id": "qcWlXtyu1dqH",
        "colab_type": "code",
        "colab": {}
      },
      "source": [
        "lfp[\"RO7\"].value_counts()"
      ],
      "execution_count": 0,
      "outputs": []
    },
    {
      "cell_type": "code",
      "metadata": {
        "id": "njftwX9IH7VN",
        "colab_type": "code",
        "colab": {}
      },
      "source": [
        "lfp[\"ED6\"].value_counts()"
      ],
      "execution_count": 0,
      "outputs": []
    },
    {
      "cell_type": "code",
      "metadata": {
        "id": "-52aaCmtH7R5",
        "colab_type": "code",
        "colab": {}
      },
      "source": [
        "lfp[\"URBAN2011\"].value_counts()"
      ],
      "execution_count": 0,
      "outputs": []
    },
    {
      "cell_type": "code",
      "metadata": {
        "id": "QJeErx4BDoDf",
        "colab_type": "code",
        "colab": {}
      },
      "source": [
        "lfp[\"RO4\"].value_counts()"
      ],
      "execution_count": 0,
      "outputs": []
    },
    {
      "cell_type": "code",
      "metadata": {
        "id": "fRL-hCedDoPB",
        "colab_type": "code",
        "colab": {}
      },
      "source": [
        "lfp[\"ASSETS\"].value_counts()"
      ],
      "execution_count": 0,
      "outputs": []
    },
    {
      "cell_type": "code",
      "metadata": {
        "id": "v5GcrVZM1dqR",
        "colab_type": "code",
        "colab": {}
      },
      "source": [
        "#custom kisko kya assign krna h jesa hum abhi krre the#find n replace\n",
        "\n",
        "\n",
        "lfp = lfp.fillna({\"ID11\": \"Hindu 1\"})\n",
        "lfp.dropna(subset=[\"RO6\"], inplace=True)# inplace, No need to assign back to dataframe (because it is on the same copy)#w/o inplace or =F(default), Have to assign back to dataframe (because it is a new copy)\n",
        "lfp = lfp.fillna({\"RO7\": \"Housework 11\"})\n",
        "lfp = lfp.fillna({\"ED6\": \"none 0\"})\n",
        "lfp = lfp.fillna({\"ASSETS\": 0.0})\n",
        "\n",
        "lfp = lfp.fillna({\"ID13\": \"Other Backward Castes (OBC) 3\"})\n",
        "new_asn = {\"ID11\":     {\"Hindu 1\": 0, \"Muslim 2\": 1, \"Christian 3\": 2, \"Sikh 4\":2,\"Buddhist 5\":2,\"Tribal 7\":2,\"Jain 6\":2,\"Others 8\":2, \"None 9\":2},\n",
        "            \"RO6\": {\"Married 1\": 0, \"Unmarried 2\": 1, \"Widowed 3\": 2, \"Married, spouse absent\": 0, \"Separated/Divorced 4\":3 ,\n",
        "                                  \"Married no gauna 5\": 0 },\n",
        "          \"RO7\": {\"Housework 11\": 0,\"Student 12\": 0, \"Too young/Unfit 14\": 0, \"Unemployed 13\": 0, \"Retired 10\": 0, \"Others 15\": 0, \n",
        "                  \"Ag wage labour 3\": 1,\"Nonag wage labour 4\": 1, \"Salaried 8\": 1, \"Cultivation 1\": 1, \"Small business 6\": 1, \n",
        "                  \"Artisan/indpt work 5\": 1, \"Allied ag 2\": 1, \"Profession 9\": 1, \"Organized Business 7\": 1}, \n",
        "          \"ED6\": {\"none 0\": 0, \"5th class 5\": 1, \"8th class 8\": 1, \"9th class 9\": 1,\"4th class 4\": 1,\"3rd class 3\": 1,\"6th class 6\": 1,\"1st class 1\": 1, \"2nd class 2\": 1,\"7th class 7\": 1,\"Secondary 10\": 2,\"11th Class 11\": 2,\"High Secondary 12\": 2,\"Bachelors 15\": 3,\"Above Bachelors 16\": 3,\"2 years post-secondary\": 3,\"1 year post-secondary\": 3},\n",
        "          \"URBAN2011\": {\"rural 0\": 0,\"urban 1\": 1},\n",
        "           \"RO4\": {\"Head 1\": 0, \"Wife/Husband 2\":1, \"Son/Daughter 3\": 2, \"Child-in-Law 4\": 3,  \"Grandchild 5\":4,\"Brother/Sister 7\":4,\"Father/Mother 6\":4,\"Sib-in-Law 10\":4,\"Nephew/Niece 9\":4,\"Other rel 11\":4,\"Parent-in-Law 8\":4,\"Servant/Others 12\":4},\n",
        "           \"ID13\":{\"Forward/General (except Brahmin) 2\":0, \"Brahmin 1\":0,\"Others 6\":0,\"Other Backward Castes (OBC) 3\":1,\"Scheduled Castes (SC) 4\":2,\"Scheduled Tribes (ST) 5\":3},\n",
        "           \"ED6\": {\"none 0\": 0, \"5th class 5\": 1, \"8th class 8\": 1, \"9th class 9\": 1,\"4th class 4\": 1,\"3rd class 3\": 1,\"6th class 6\": 1,\"1st class 1\": 1, \"2nd class 2\": 1,\"7th class 7\": 1,\"Secondary 10\": 2,\"11th Class 11\": 2,\"High Secondary 12\": 2,\"Bachelors 15\": 3,\"Above Bachelors 16\": 3,\"2 years post-secondary\": 3,\"1 year post-secondary\": 3},\n",
        "           \"age_groups\": {\"fresher\": 0, \"experienced\":1,\"elderly\":2}\n",
        "          }\n",
        "          \n",
        "                \n",
        "lfp.replace(new_asn, inplace=True)\n",
        "\n"
      ],
      "execution_count": 0,
      "outputs": []
    },
    {
      "cell_type": "code",
      "metadata": {
        "id": "UGHZqSU01dqb",
        "colab_type": "code",
        "colab": {}
      },
      "source": [
        "lfp.ID11.describe()"
      ],
      "execution_count": 0,
      "outputs": []
    },
    {
      "cell_type": "code",
      "metadata": {
        "id": "TwczW9be1dqi",
        "colab_type": "code",
        "colab": {}
      },
      "source": [
        "lfp.RO6.describe()"
      ],
      "execution_count": 0,
      "outputs": []
    },
    {
      "cell_type": "code",
      "metadata": {
        "id": "yDnf46Ey1dqq",
        "colab_type": "code",
        "colab": {}
      },
      "source": [
        "lfp.RO7.describe()"
      ],
      "execution_count": 0,
      "outputs": []
    },
    {
      "cell_type": "code",
      "metadata": {
        "id": "nt97bXKdD8pL",
        "colab_type": "code",
        "colab": {}
      },
      "source": [
        "lfp.ASSETS.describe()"
      ],
      "execution_count": 0,
      "outputs": []
    },
    {
      "cell_type": "code",
      "metadata": {
        "id": "d8dvSgjrIJFq",
        "colab_type": "code",
        "colab": {}
      },
      "source": [
        "lfp.ED6.describe()"
      ],
      "execution_count": 0,
      "outputs": []
    },
    {
      "cell_type": "code",
      "metadata": {
        "id": "z_3jXFo5IJLW",
        "colab_type": "code",
        "colab": {}
      },
      "source": [
        "lfp.URBAN2011.describe()"
      ],
      "execution_count": 0,
      "outputs": []
    },
    {
      "cell_type": "code",
      "metadata": {
        "id": "80oQVQKT1dqw",
        "colab_type": "code",
        "colab": {}
      },
      "source": [
        "lfp=pd.get_dummies(lfp, columns=[\"ID11\",\"RO6\", \"RO7\",\"URBAN2011\",\"RO4\",\"ID13\",\"ED6\",\"age_groups\"], drop_first=True)"
      ],
      "execution_count": 0,
      "outputs": []
    },
    {
      "cell_type": "code",
      "metadata": {
        "id": "9W2TypnDEOER",
        "colab_type": "code",
        "colab": {}
      },
      "source": [
        "lfp.head()"
      ],
      "execution_count": 0,
      "outputs": []
    },
    {
      "cell_type": "code",
      "metadata": {
        "id": "VF-xvaBB1dq1",
        "colab_type": "code",
        "colab": {}
      },
      "source": [
        "df=lfp.loc[:,[\"INCOME\",\"ID11_1\",\"ID11_2\",\"RO6_1\",\"RO6_2\",\"RO6_3\", \"RO7_1\",\"ED6_1\",\"ED6_2\",\"ED6_3\",\"URBAN2011_1\",\"age_groups_1\",\"age_groups_2\", \"NPERSONS\", \"RO4_1\",\"RO4_2\",\"RO4_3\",\"RO4_4\",\"ID13_1\",\"ID13_2\",\"ID13_3\", \"NELDER\",\"ASSETS\" ]]"
      ],
      "execution_count": 0,
      "outputs": []
    },
    {
      "cell_type": "code",
      "metadata": {
        "id": "jvWCuvsJIWbd",
        "colab_type": "code",
        "colab": {}
      },
      "source": [
        "df.rename(columns={'INCOME': 'THHY', 'ID11_1': 'Muslim','ID11_2': 'Religion_Others', 'RO6_1': 'Unmarried', 'RO6_2': 'Widowed','RO6_3':\"Separated/Divorced\", 'RO7_1': 'Employed', 'ED6_1': 'Primary_Ed', 'ED6_2': 'Secondary_Ed', 'ED6_3': 'Tertiary_Ed', 'URBAN2011_1':'Urban', \"age_groups_1\": \"experienced\",\"age_groups_2\": 'elderly', \"NPERSONS\":\"NPERSONS\", \"RO4_1\":\"Wifeofhead\", \"RO4_2\":\"Daughter\",\"RO4_3\":\"Daughter-in-Law\",\"RO4_4\":\"Other relationship to head\",\"ID13_1\":\"OBC\",\"ID13_2\":\"SC\",\"ID13_3\":\"ST\", \"NELDER\":\"NELDER>60\", \"ASSETS\":\"THASSETS\", }, inplace=True)"
      ],
      "execution_count": 0,
      "outputs": []
    },
    {
      "cell_type": "code",
      "metadata": {
        "id": "mZL7UGbwIcOO",
        "colab_type": "code",
        "colab": {}
      },
      "source": [
        "df.head()"
      ],
      "execution_count": 0,
      "outputs": []
    },
    {
      "cell_type": "code",
      "metadata": {
        "id": "SLhLnjy5Aa1Q",
        "colab_type": "code",
        "colab": {}
      },
      "source": [
        "df.info()"
      ],
      "execution_count": 0,
      "outputs": []
    },
    {
      "cell_type": "code",
      "metadata": {
        "id": "rFKeY1QSEhui",
        "colab_type": "code",
        "colab": {}
      },
      "source": [
        "obj_df = df.select_dtypes(include=['uint8','int8','int64']).copy()"
      ],
      "execution_count": 0,
      "outputs": []
    },
    {
      "cell_type": "code",
      "metadata": {
        "id": "CQSBSM1REkn-",
        "colab_type": "code",
        "colab": {}
      },
      "source": [
        "cont_df = df.select_dtypes(include=['float64']).copy()"
      ],
      "execution_count": 0,
      "outputs": []
    },
    {
      "cell_type": "code",
      "metadata": {
        "id": "Iie0S5cOEnno",
        "colab_type": "code",
        "colab": {}
      },
      "source": [
        "obj_df.info()"
      ],
      "execution_count": 0,
      "outputs": []
    },
    {
      "cell_type": "code",
      "metadata": {
        "id": "Gi8rm4XZEqDU",
        "colab_type": "code",
        "colab": {}
      },
      "source": [
        "cont_df.info()"
      ],
      "execution_count": 0,
      "outputs": []
    },
    {
      "cell_type": "code",
      "metadata": {
        "id": "sVEepGaTF6Jv",
        "colab_type": "code",
        "colab": {}
      },
      "source": [
        "lfp[\"NTEENM\"].value_counts()"
      ],
      "execution_count": 0,
      "outputs": []
    },
    {
      "cell_type": "code",
      "metadata": {
        "id": "TtadyeEzGQvt",
        "colab_type": "code",
        "colab": {}
      },
      "source": [
        "lfp[\"NTEENF\"].value_counts().sum()"
      ],
      "execution_count": 0,
      "outputs": []
    },
    {
      "cell_type": "code",
      "metadata": {
        "id": "5XdMmkwOrY1Q",
        "colab_type": "code",
        "colab": {}
      },
      "source": [
        "lfp[\"NCHILDM\"].value_counts().sum()"
      ],
      "execution_count": 0,
      "outputs": []
    },
    {
      "cell_type": "code",
      "metadata": {
        "id": "v_qMrYbdrbGP",
        "colab_type": "code",
        "colab": {}
      },
      "source": [
        "lfp[\"NCHILDF\"].value_counts().sum()"
      ],
      "execution_count": 0,
      "outputs": []
    },
    {
      "cell_type": "code",
      "metadata": {
        "id": "MA-a5XN0rdqF",
        "colab_type": "code",
        "colab": {}
      },
      "source": [
        "lfp.NTEENF.isnull().sum()"
      ],
      "execution_count": 0,
      "outputs": []
    },
    {
      "cell_type": "code",
      "metadata": {
        "id": "r0euSmbjrdno",
        "colab_type": "code",
        "colab": {}
      },
      "source": [
        "lfp.NTEENM.isnull().sum()"
      ],
      "execution_count": 0,
      "outputs": []
    },
    {
      "cell_type": "code",
      "metadata": {
        "id": "A2ZuEwHxrdkZ",
        "colab_type": "code",
        "colab": {}
      },
      "source": [
        "lfp.NCHILDM.isnull().sum()"
      ],
      "execution_count": 0,
      "outputs": []
    },
    {
      "cell_type": "code",
      "metadata": {
        "id": "OdMy_unbrdh-",
        "colab_type": "code",
        "colab": {}
      },
      "source": [
        "lfp.NCHILDF.isnull().sum()"
      ],
      "execution_count": 0,
      "outputs": []
    },
    {
      "cell_type": "code",
      "metadata": {
        "id": "ItmFhpvNrntA",
        "colab_type": "code",
        "colab": {
          "base_uri": "https://localhost:8080/",
          "height": 170
        },
        "outputId": "94d04e96-a187-4318-99d0-3fa496f4eb14"
      },
      "source": [
        "df['N_children']=lfp['NCHILDM']+lfp['NCHILDF']+lfp['NTEENF']+lfp['NTEENM']\n",
        "df.N_children.describe()"
      ],
      "execution_count": 17,
      "outputs": [
        {
          "output_type": "execute_result",
          "data": {
            "text/plain": [
              "count    135472.000000\n",
              "mean          2.276072\n",
              "std           1.775999\n",
              "min           0.000000\n",
              "25%           1.000000\n",
              "50%           2.000000\n",
              "75%           3.000000\n",
              "max          21.000000\n",
              "Name: N_children, dtype: float64"
            ]
          },
          "metadata": {
            "tags": []
          },
          "execution_count": 17
        }
      ]
    },
    {
      "cell_type": "code",
      "metadata": {
        "id": "O6TOTEFJrqAq",
        "colab_type": "code",
        "colab": {}
      },
      "source": [
        "df.info()"
      ],
      "execution_count": 0,
      "outputs": []
    },
    {
      "cell_type": "code",
      "metadata": {
        "id": "RcBDLjgWrucL",
        "colab_type": "code",
        "colab": {
          "base_uri": "https://localhost:8080/",
          "height": 1000
        },
        "outputId": "88bd3e5e-f5da-4794-fc22-2978767796b0"
      },
      "source": [
        "plt.figure(figsize=(20,20))\n",
        "correlation_matrix = df.corr().round(2)\n",
        "sns.heatmap(data=correlation_matrix, annot=True)"
      ],
      "execution_count": 21,
      "outputs": [
        {
          "output_type": "execute_result",
          "data": {
            "text/plain": [
              "<matplotlib.axes._subplots.AxesSubplot at 0x7fdbeee76e10>"
            ]
          },
          "metadata": {
            "tags": []
          },
          "execution_count": 21
        },
        {
          "output_type": "display_data",
          "data": {
            "image/png": "[encoded data removed]",
            "text/plain": [
              "<Figure size 1440x1440 with 2 Axes>"
            ]
          },
          "metadata": {
            "tags": []
          }
        }
      ]
    },
    {
      "cell_type": "code",
      "metadata": {
        "id": "O_y9C4hSrwwa",
        "colab_type": "code",
        "colab": {}
      },
      "source": [
        "#df=df.drop(['NPERSONS'],axis=1)"
      ],
      "execution_count": 0,
      "outputs": []
    },
    {
      "cell_type": "code",
      "metadata": {
        "id": "Ovyer5UNrzJ4",
        "colab_type": "code",
        "colab": {}
      },
      "source": [
        "Y=df['Employed']"
      ],
      "execution_count": 0,
      "outputs": []
    },
    {
      "cell_type": "code",
      "metadata": {
        "id": "3Couc-cIr2jU",
        "colab_type": "code",
        "colab": {}
      },
      "source": [
        "Y.head()"
      ],
      "execution_count": 0,
      "outputs": []
    },
    {
      "cell_type": "code",
      "metadata": {
        "id": "u6cxTAt8r3c8",
        "colab_type": "code",
        "colab": {}
      },
      "source": [
        "Y = Y.astype('int')"
      ],
      "execution_count": 0,
      "outputs": []
    },
    {
      "cell_type": "code",
      "metadata": {
        "id": "7w-9FBS6r5hZ",
        "colab_type": "code",
        "colab": {}
      },
      "source": [
        "df=df.drop('Employed',axis=1)"
      ],
      "execution_count": 0,
      "outputs": []
    },
    {
      "cell_type": "code",
      "metadata": {
        "id": "DPKjrFCxr8Qo",
        "colab_type": "code",
        "colab": {}
      },
      "source": [
        "df.info()"
      ],
      "execution_count": 0,
      "outputs": []
    },
    {
      "cell_type": "code",
      "metadata": {
        "id": "Gv6anMOKsANN",
        "colab_type": "code",
        "colab": {}
      },
      "source": [
        "import statsmodels.api as sm"
      ],
      "execution_count": 0,
      "outputs": []
    },
    {
      "cell_type": "code",
      "metadata": {
        "id": "z1OXvUmBsDuT",
        "colab_type": "code",
        "colab": {}
      },
      "source": [
        "import statsmodels.formula.api as smf"
      ],
      "execution_count": 0,
      "outputs": []
    },
    {
      "cell_type": "code",
      "metadata": {
        "id": "CvK8NHTCsF7A",
        "colab_type": "code",
        "colab": {}
      },
      "source": [
        "logit_model=sm.Logit(Y,df)"
      ],
      "execution_count": 0,
      "outputs": []
    },
    {
      "cell_type": "code",
      "metadata": {
        "id": "2mYIMGwJwS7s",
        "colab_type": "code",
        "colab": {
          "base_uri": "https://localhost:8080/",
          "height": 68
        },
        "outputId": "f4c74e78-8d72-40d6-b53a-0156b5f7ef22"
      },
      "source": [
        "result=logit_model.fit()"
      ],
      "execution_count": 37,
      "outputs": [
        {
          "output_type": "stream",
          "text": [
            "Optimization terminated successfully.\n",
            "         Current function value: 0.484668\n",
            "         Iterations 6\n"
          ],
          "name": "stdout"
        }
      ]
    },
    {
      "cell_type": "code",
      "metadata": {
        "id": "AvYFBXmqsJTa",
        "colab_type": "code",
        "colab": {
          "base_uri": "https://localhost:8080/",
          "height": 663
        },
        "outputId": "314db1b5-8ae6-4010-ab1c-f5b8d475bf7b"
      },
      "source": [
        "print(result.summary2())"
      ],
      "execution_count": 38,
      "outputs": [
        {
          "output_type": "stream",
          "text": [
            "                               Results: Logit\n",
            "============================================================================\n",
            "Model:                  Logit               Pseudo R-squared:    0.300      \n",
            "Dependent Variable:     Employed            AIC:                 131363.7735\n",
            "Date:                   2019-08-19 12:01    BIC:                 131589.5534\n",
            "No. Observations:       135472              Log-Likelihood:      -65659.    \n",
            "Df Model:               22                  LL-Null:             -93862.    \n",
            "Df Residuals:           135449              LLR p-value:         0.0000     \n",
            "Converged:              1.0000              Scale:               1.0000     \n",
            "No. Iterations:         6.0000                                              \n",
            "----------------------------------------------------------------------------\n",
            "                            Coef.  Std.Err.     z     P>|z|   [0.025  0.975]\n",
            "----------------------------------------------------------------------------\n",
            "THHY                        0.0000   0.0000    6.0582 0.0000  0.0000  0.0000\n",
            "Muslim                      0.1092   0.0217    5.0357 0.0000  0.0667  0.1517\n",
            "Religion_Others            -0.0609   0.0284   -2.1469 0.0318 -0.1165 -0.0053\n",
            "Unmarried                  -1.6483   0.0245  -67.2186 0.0000 -1.6964 -1.6003\n",
            "Widowed                    -1.4538   0.0317  -45.8702 0.0000 -1.5159 -1.3917\n",
            "Separated/Divorced         -0.9296   0.0763  -12.1910 0.0000 -1.0791 -0.7802\n",
            "Primary_Ed                  0.4555   0.0181   25.0968 0.0000  0.4199  0.4910\n",
            "Secondary_Ed                0.0778   0.0235    3.3150 0.0009  0.0318  0.1238\n",
            "Tertiary_Ed                 0.2642   0.0298    8.8665 0.0000  0.2058  0.3226\n",
            "Urban                      -0.1852   0.0164  -11.2884 0.0000 -0.2173 -0.1530\n",
            "experienced                 1.4243   0.0200   71.1858 0.0000  1.3851  1.4635\n",
            "elderly                     0.5307   0.0257   20.6432 0.0000  0.4804  0.5811\n",
            "NPERSONS                    0.1961   0.0051   38.5644 0.0000  0.1861  0.2061\n",
            "Wifeofhead                 -3.2168   0.0213 -150.7599 0.0000 -3.2586 -3.1750\n",
            "Daughter                   -0.1189   0.0286   -4.1637 0.0000 -0.1749 -0.0629\n",
            "Daughter-in-Law            -3.4612   0.0340 -101.7808 0.0000 -3.5278 -3.3945\n",
            "Other relationship to head -1.3777   0.0320  -43.0309 0.0000 -1.4405 -1.3150\n",
            "OBC                         0.6021   0.0162   37.2429 0.0000  0.5705  0.6338\n",
            "SC                          0.8812   0.0195   45.1031 0.0000  0.8429  0.9195\n",
            "ST                          1.1498   0.0271   42.4351 0.0000  1.0967  1.2029\n",
            "NELDER>60                  -0.0953   0.0112   -8.5142 0.0000 -0.1172 -0.0733\n",
            "THASSETS                   -0.0103   0.0014   -7.2523 0.0000 -0.0131 -0.0075\n",
            "N_children                 -0.2616   0.0073  -35.6061 0.0000 -0.2760 -0.2472\n",
            "============================================================================\n",
            "\n"
          ],
          "name": "stdout"
        }
      ]
    },
    {
      "cell_type": "code",
      "metadata": {
        "id": "kn67nbMSsQeB",
        "colab_type": "code",
        "colab": {}
      },
      "source": [
        "PROBIT_MODEL=sm.Probit(Y,df)"
      ],
      "execution_count": 0,
      "outputs": []
    },
    {
      "cell_type": "code",
      "metadata": {
        "id": "ElmAmW0msM-7",
        "colab_type": "code",
        "colab": {
          "base_uri": "https://localhost:8080/",
          "height": 68
        },
        "outputId": "95817106-7c6c-47fb-c313-346188398084"
      },
      "source": [
        "RESULT=PROBIT_MODEL.fit()"
      ],
      "execution_count": 42,
      "outputs": [
        {
          "output_type": "stream",
          "text": [
            "Optimization terminated successfully.\n",
            "         Current function value: 0.485736\n",
            "         Iterations 6\n"
          ],
          "name": "stdout"
        }
      ]
    },
    {
      "cell_type": "code",
      "metadata": {
        "id": "vGcLkjPGsUL-",
        "colab_type": "code",
        "colab": {
          "base_uri": "https://localhost:8080/",
          "height": 629
        },
        "outputId": "38f17965-1f86-46ff-914a-b393db1bd3de"
      },
      "source": [
        "print(RESULT.summary())"
      ],
      "execution_count": 43,
      "outputs": [
        {
          "output_type": "stream",
          "text": [
            "                          Probit Regression Results                           \n",
            "==============================================================================\n",
            "Dep. Variable:               Employed   No. Observations:               135472\n",
            "Model:                         Probit   Df Residuals:                   135449\n",
            "Method:                           MLE   Df Model:                           22\n",
            "Date:                Mon, 19 Aug 2019   Pseudo R-squ.:                  0.2989\n",
            "Time:                        12:02:19   Log-Likelihood:                -65804.\n",
            "converged:                       True   LL-Null:                       -93862.\n",
            "Covariance Type:            nonrobust   LLR p-value:                     0.000\n",
            "==============================================================================================\n",
            "                                 coef    std err          z      P>|z|      [0.025      0.975]\n",
            "----------------------------------------------------------------------------------------------\n",
            "THHY                        1.039e-07   1.78e-08      5.831      0.000     6.9e-08    1.39e-07\n",
            "Muslim                         0.0634      0.013      5.065      0.000       0.039       0.088\n",
            "Religion_Others               -0.0337      0.016     -2.055      0.040      -0.066      -0.002\n",
            "Unmarried                     -0.9811      0.014    -69.412      0.000      -1.009      -0.953\n",
            "Widowed                       -0.8447      0.019    -45.487      0.000      -0.881      -0.808\n",
            "Separated/Divorced            -0.5406      0.044    -12.150      0.000      -0.628      -0.453\n",
            "Primary_Ed                     0.2713      0.010     26.088      0.000       0.251       0.292\n",
            "Secondary_Ed                   0.0556      0.013      4.126      0.000       0.029       0.082\n",
            "Tertiary_Ed                    0.1742      0.017     10.144      0.000       0.141       0.208\n",
            "Urban                         -0.1096      0.009    -11.560      0.000      -0.128      -0.091\n",
            "experienced                    0.8111      0.011     72.865      0.000       0.789       0.833\n",
            "elderly                        0.2965      0.015     20.258      0.000       0.268       0.325\n",
            "NPERSONS                       0.1138      0.003     38.806      0.000       0.108       0.120\n",
            "Wifeofhead                    -1.8855      0.012   -162.197      0.000      -1.908      -1.863\n",
            "Daughter                      -0.0888      0.016     -5.477      0.000      -0.121      -0.057\n",
            "Daughter-in-Law               -2.0226      0.019   -108.782      0.000      -2.059      -1.986\n",
            "Other relationship to head    -0.8024      0.018    -43.684      0.000      -0.838      -0.766\n",
            "OBC                            0.3548      0.009     38.422      0.000       0.337       0.373\n",
            "SC                             0.5210      0.011     46.474      0.000       0.499       0.543\n",
            "ST                             0.6817      0.016     43.570      0.000       0.651       0.712\n",
            "NELDER>60                     -0.0538      0.006     -8.393      0.000      -0.066      -0.041\n",
            "THASSETS                      -0.0054      0.001     -6.612      0.000      -0.007      -0.004\n",
            "N_children                    -0.1493      0.004    -35.067      0.000      -0.158      -0.141\n",
            "==============================================================================================\n"
          ],
          "name": "stdout"
        }
      ]
    },
    {
      "cell_type": "code",
      "metadata": {
        "id": "MAVB-rSjscg5",
        "colab_type": "code",
        "colab": {
          "base_uri": "https://localhost:8080/",
          "height": 119
        },
        "outputId": "f0c95dbd-231c-4b75-e729-55c6b5c4e4e5"
      },
      "source": [
        "Y.head()"
      ],
      "execution_count": 31,
      "outputs": [
        {
          "output_type": "execute_result",
          "data": {
            "text/plain": [
              "0    0\n",
              "1    0\n",
              "2    0\n",
              "4    0\n",
              "5    0\n",
              "Name: Employed, dtype: int64"
            ]
          },
          "metadata": {
            "tags": []
          },
          "execution_count": 31
        }
      ]
    },
    {
      "cell_type": "code",
      "metadata": {
        "id": "KZG8xONVsfuI",
        "colab_type": "code",
        "colab": {
          "base_uri": "https://localhost:8080/",
          "height": 34
        },
        "outputId": "11467dec-d6e6-4626-976c-fc93051d0912"
      },
      "source": [
        "Y.isnull().sum()"
      ],
      "execution_count": 32,
      "outputs": [
        {
          "output_type": "execute_result",
          "data": {
            "text/plain": [
              "0"
            ]
          },
          "metadata": {
            "tags": []
          },
          "execution_count": 32
        }
      ]
    },
    {
      "cell_type": "code",
      "metadata": {
        "id": "8637Ic88sggB",
        "colab_type": "code",
        "colab": {
          "base_uri": "https://localhost:8080/",
          "height": 34
        },
        "outputId": "0950a00e-7ecf-4ac0-9d1c-a133d7f68ac7"
      },
      "source": [
        "Y.max()"
      ],
      "execution_count": 33,
      "outputs": [
        {
          "output_type": "execute_result",
          "data": {
            "text/plain": [
              "1"
            ]
          },
          "metadata": {
            "tags": []
          },
          "execution_count": 33
        }
      ]
    },
    {
      "cell_type": "code",
      "metadata": {
        "id": "kbYy0rerslDq",
        "colab_type": "code",
        "colab": {
          "base_uri": "https://localhost:8080/",
          "height": 34
        },
        "outputId": "d769ee5f-de57-49d6-d2db-25a077252415"
      },
      "source": [
        "Y.min()"
      ],
      "execution_count": 34,
      "outputs": [
        {
          "output_type": "execute_result",
          "data": {
            "text/plain": [
              "0"
            ]
          },
          "metadata": {
            "tags": []
          },
          "execution_count": 34
        }
      ]
    },
    {
      "cell_type": "code",
      "metadata": {
        "id": "183Ompw0vx91",
        "colab_type": "code",
        "colab": {}
      },
      "source": [
        ""
      ],
      "execution_count": 0,
      "outputs": []
    }
  ]
}